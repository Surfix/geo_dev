{
 "cells": [
  {
   "cell_type": "code",
   "execution_count": 1,
   "metadata": {},
   "outputs": [
    {
     "data": {
      "text/plain": [
       "<module 'curses.panel' from '/home/naheemadebisi/miniconda3/envs/earth-analytics-python/lib/python3.8/curses/panel.py'>"
      ]
     },
     "execution_count": 1,
     "metadata": {},
     "output_type": "execute_result"
    }
   ],
   "source": [
    "from curses import panel\n",
    "\n",
    "\n",
    "panel"
   ]
  },
  {
   "cell_type": "code",
   "execution_count": 1,
   "metadata": {},
   "outputs": [
    {
     "name": "stdout",
     "output_type": "stream",
     "text": [
      "Traceback (most recent call last):\n",
      "  File \"/home/naheemadebisi/miniconda3/envs/earth-analytics-python/bin/panel\", line 8, in <module>\n",
      "    sys.exit(main())\n",
      "  File \"/home/naheemadebisi/miniconda3/envs/earth-analytics-python/lib/python3.8/site-packages/panel/command/__init__.py\", line 104, in main\n",
      "    pyct.cmd.substitute_main('panel', cmds=pyct_commands, args=args)\n",
      "  File \"/home/naheemadebisi/miniconda3/envs/earth-analytics-python/lib/python3.8/site-packages/pyct/cmd.py\", line 455, in substitute_main\n",
      "    args.func(args) if hasattr(args,'func') else parser.error(\"must supply command to run\")\n",
      "  File \"/home/naheemadebisi/miniconda3/envs/earth-analytics-python/lib/python3.8/site-packages/pyct/cmd.py\", line 394, in <lambda>\n",
      "    parser.set_defaults(func=lambda args: fn(name, **{k: getattr(args,k) for k in vars(args) if k!='func'} ))\n",
      "  File \"/home/naheemadebisi/miniconda3/envs/earth-analytics-python/lib/python3.8/site-packages/pyct/cmd.py\", line 38, in examples\n",
      "    copy_examples(name, path, verbose, force)\n",
      "  File \"/home/naheemadebisi/miniconda3/envs/earth-analytics-python/lib/python3.8/site-packages/pyct/cmd.py\", line 47, in copy_examples\n",
      "    raise ValueError(\"Path %s already exists; please move it away, choose a different path, or use force.\"%path)\n",
      "ValueError: Path /home/naheemadebisi/geofiles1/home/NaheemAdebisi/PhD/01-Course-works/2022/Fall2022/geo_dev/panel_ already exists; please move it away, choose a different path, or use force.\n"
     ]
    }
   ],
   "source": [
    "!panel examples --path ./"
   ]
  },
  {
   "cell_type": "code",
   "execution_count": null,
   "metadata": {},
   "outputs": [],
   "source": []
  }
 ],
 "metadata": {
  "kernelspec": {
   "display_name": "Python 3.8.13 ('earth-analytics-python')",
   "language": "python",
   "name": "python3"
  },
  "language_info": {
   "codemirror_mode": {
    "name": "ipython",
    "version": 3
   },
   "file_extension": ".py",
   "mimetype": "text/x-python",
   "name": "python",
   "nbconvert_exporter": "python",
   "pygments_lexer": "ipython3",
   "version": "3.8.12"
  },
  "orig_nbformat": 4,
  "vscode": {
   "interpreter": {
    "hash": "4a6b17c43e9812396a6a5107d266d4edbe6eaa1adb1fd72c08be9ea32f828148"
   }
  }
 },
 "nbformat": 4,
 "nbformat_minor": 2
}
